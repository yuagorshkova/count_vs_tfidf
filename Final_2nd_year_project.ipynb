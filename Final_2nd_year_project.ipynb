{
  "nbformat": 4,
  "nbformat_minor": 0,
  "metadata": {
    "colab": {
      "name": "Final 2nd year project.ipynb",
      "provenance": [],
      "collapsed_sections": [
        "Uu5gYKK6GJSx",
        "B5x_5Y8VHdIF",
        "ZSty5_MvdATy",
        "3soJWBwMdjDr",
        "yT5XH5_dG0ed",
        "4oTAqumvG3-l",
        "w_upYLy-G8d0"
      ]
    },
    "kernelspec": {
      "name": "python3",
      "display_name": "Python 3"
    },
    "language_info": {
      "name": "python"
    }
  },
  "cells": [
    {
      "cell_type": "code",
      "metadata": {
        "colab": {
          "base_uri": "https://localhost:8080/"
        },
        "id": "4U3SIOJtF_NS",
        "outputId": "25c81792-cbad-41f4-8ac5-41708c048119"
      },
      "source": [
        "import requests\n",
        "import re\n",
        "from bs4 import BeautifulSoup\n",
        "import os.path\n",
        "\n",
        "\n",
        "import pandas as pd\n",
        "import numpy as np\n",
        "import os\n",
        "import matplotlib.pyplot as plt\n",
        "\n",
        "from os import listdir, mkdir, remove\n",
        "from os.path import isfile, join\n",
        "from collections import defaultdict, Counter\n",
        "\n",
        "import nltk\n",
        "nltk.download('stopwords')\n",
        "from nltk.corpus import stopwords\n",
        "sw = stopwords.words('russian')\n",
        "nltk.download('punkt')\n",
        "from nltk import word_tokenize\n",
        "\n",
        "!pip install pymorphy2\n",
        "from pymorphy2 import MorphAnalyzer\n",
        "morph=MorphAnalyzer()\n",
        "\n",
        "\n",
        "import gensim\n",
        "from gensim.models import CoherenceModel, LdaModel, TfidfModel, Word2Vec\n",
        "from gensim.corpora import Dictionary\n",
        "from gensim.test.utils import datapath\n",
        "from sklearn.metrics import pairwise_distances\n",
        "from sklearn.decomposition import PCA\n",
        "from sklearn.manifold import TSNE\n",
        "from sklearn.cluster import MiniBatchKMeans\n",
        "from sklearn.feature_extraction.text import TfidfVectorizer\n",
        "\n",
        "%matplotlib inline"
      ],
      "execution_count": null,
      "outputs": [
        {
          "output_type": "stream",
          "text": [
            "[nltk_data] Downloading package stopwords to /root/nltk_data...\n",
            "[nltk_data]   Unzipping corpora/stopwords.zip.\n",
            "[nltk_data] Downloading package punkt to /root/nltk_data...\n",
            "[nltk_data]   Unzipping tokenizers/punkt.zip.\n",
            "Collecting pymorphy2\n",
            "\u001b[?25l  Downloading https://files.pythonhosted.org/packages/07/57/b2ff2fae3376d4f3c697b9886b64a54b476e1a332c67eee9f88e7f1ae8c9/pymorphy2-0.9.1-py3-none-any.whl (55kB)\n",
            "\u001b[K     |████████████████████████████████| 61kB 3.4MB/s \n",
            "\u001b[?25hCollecting dawg-python>=0.7.1\n",
            "  Downloading https://files.pythonhosted.org/packages/6a/84/ff1ce2071d4c650ec85745766c0047ccc3b5036f1d03559fd46bb38b5eeb/DAWG_Python-0.7.2-py2.py3-none-any.whl\n",
            "Collecting pymorphy2-dicts-ru<3.0,>=2.4\n",
            "\u001b[?25l  Downloading https://files.pythonhosted.org/packages/3a/79/bea0021eeb7eeefde22ef9e96badf174068a2dd20264b9a378f2be1cdd9e/pymorphy2_dicts_ru-2.4.417127.4579844-py2.py3-none-any.whl (8.2MB)\n",
            "\u001b[K     |████████████████████████████████| 8.2MB 7.1MB/s \n",
            "\u001b[?25hRequirement already satisfied: docopt>=0.6 in /usr/local/lib/python3.7/dist-packages (from pymorphy2) (0.6.2)\n",
            "Installing collected packages: dawg-python, pymorphy2-dicts-ru, pymorphy2\n",
            "Successfully installed dawg-python-0.7.2 pymorphy2-0.9.1 pymorphy2-dicts-ru-2.4.417127.4579844\n"
          ],
          "name": "stdout"
        }
      ]
    },
    {
      "cell_type": "code",
      "metadata": {
        "colab": {
          "base_uri": "https://localhost:8080/"
        },
        "id": "wuYWK7G4IvjP",
        "outputId": "327fc34d-7e6d-4122-b938-0ba83dcf86f7"
      },
      "source": [
        "from google.colab import drive\n",
        "drive.mount('/content/gdrive',force_remount=True)"
      ],
      "execution_count": null,
      "outputs": [
        {
          "output_type": "stream",
          "text": [
            "Mounted at /content/gdrive\n"
          ],
          "name": "stdout"
        }
      ]
    },
    {
      "cell_type": "markdown",
      "metadata": {
        "id": "Uu5gYKK6GJSx"
      },
      "source": [
        "## Краулер"
      ]
    },
    {
      "cell_type": "markdown",
      "metadata": {
        "id": "YI5nDGcroZgu"
      },
      "source": [
        "В следующей клетке представлен код для получения информации об одной публикации при парсинге страницы."
      ]
    },
    {
      "cell_type": "code",
      "metadata": {
        "id": "oW4yGNoDGe2o"
      },
      "source": [
        "calendar = {\n",
        "  'Января':'01',\n",
        "  'Февраля':'02',\n",
        "  'Марта':'03',\n",
        "  'Апреля':'04',\n",
        "  'Мая':'05',\n",
        "  'Июня':'06',\n",
        "  'Июля':'07',\n",
        "  'Августа':'08',\n",
        "  'Сентября':'09',\n",
        "  'Октября':'10',\n",
        "  'Ноября':'11',\n",
        "  'Декабря':'12'\n",
        "}\n",
        "\n",
        "#конвертация даты в стандартный формат представления\n",
        "def convert_date(s, calendar = calendar):\n",
        "  date_split = s.split()[:3]\n",
        "  date_split[1] = calendar[date_split[1].capitalize()]\n",
        "  return '.'.join(date_split)\n",
        "\n",
        "#чтение даты из супа    \n",
        "def get_date(soup):\n",
        "  date = soup.find('div', {'class': 'data_news'})\n",
        "  date = date.find('span').string\n",
        "  date = str(date)\n",
        "  return convert_date(date)\n",
        "\n",
        "#чтение названия публикации из супа\n",
        "def get_title(soup):\n",
        "  return soup.title.string\n",
        "\n",
        "#чтение текста публикации\n",
        "def get_content(soup):\n",
        "  content = soup.find('div', {'class': 'poster_content_block'})\n",
        "  content = content.find_all('p')\n",
        "  content_l = [el.get_text(strip=True).replace('\\xa0', ' ') for el in content]\n",
        "  return '\\n'.join(content_l)\n",
        "\n",
        "#сбор информации о публикации по заданной ссылке\n",
        "def get_info(url, website = 'https://mk.tula.ru'):\n",
        "  full_url = website + url\n",
        "\n",
        "  #получаем код страницы\n",
        "  response = requests.get(full_url)\n",
        "  soup = BeautifulSoup(response.text.replace('\\xa0', ' '))\n",
        "  \n",
        "  #собираем инфомацию\n",
        "  date = get_date(soup)\n",
        "  title = get_title(soup)\n",
        "  content = get_content(soup)\n",
        "  \n",
        "  res_l = ['=====', full_url, date, title, content]\n",
        "  \n",
        "  res = '\\n'.join(res_l)\n",
        "  return res"
      ],
      "execution_count": null,
      "outputs": []
    },
    {
      "cell_type": "markdown",
      "metadata": {
        "id": "bvfmm4CvpEa3"
      },
      "source": [
        "В следующей клетке кода функции для 1) записи информации об одной публикации в файл с полным корпусом, 2) записи в файл информации обо всех статьях на одной странице выдачи."
      ]
    },
    {
      "cell_type": "code",
      "metadata": {
        "id": "KEdOb6ptG6j-"
      },
      "source": [
        "def add_res_to_file(url, filename):\n",
        "  info = get_info(url)\n",
        "  \n",
        "  #если файл не существует, создаем его, если существет -- дописываем\n",
        "  if os.path.isfile(filename):\n",
        "    with open(filename, 'a') as file:\n",
        "      file.write(info + '\\n')\n",
        "  else:\n",
        "    with open(filename, 'w') as file:\n",
        "      file.write(info + '\\n')\n",
        "\n",
        "\n",
        "def add_all_to_file(page_url, filename, news_class = 'news_container_list_aimg'):\n",
        "    response = requests.get(page_url)\n",
        "    soup = BeautifulSoup(response.text)\n",
        "    \n",
        "    urls_set = set()\n",
        "    for e in soup.find_all('a'):\n",
        "      if 'class' in e.attrs:\n",
        "        if news_class in e['class']:\n",
        "          if e['href'] not in urls_set:\n",
        "            urls_set.add(e['href'])\n",
        "            add_res_to_file(e['href'], filename)\n",
        "            #print(e['href'])"
      ],
      "execution_count": null,
      "outputs": []
    },
    {
      "cell_type": "markdown",
      "metadata": {
        "id": "eUkZbAJ3pa4B"
      },
      "source": [
        "В следующей ячейке собираем информацию с заданного количества страниц выдачи."
      ]
    },
    {
      "cell_type": "code",
      "metadata": {
        "id": "M_sQhuGWHLzi"
      },
      "source": [
        "def all_pages(page_url, filename, end = 1462):\n",
        "  for i in range(0, end):\n",
        "    add_all_to_file(page_url+'?PAGEN_2='+str(i), filename)\n",
        "\n",
        "mkdir('/content/gdrive/MyDrive/final_project')\n",
        "all_pages('https://mk.tula.ru/news/', '/content/gdrive/MyDrive/final_project/mktula.txt', end = 100)\n",
        "with open('mktula.txt', 'a') as file:\n",
        "    file.write('=====')"
      ],
      "execution_count": null,
      "outputs": []
    },
    {
      "cell_type": "markdown",
      "metadata": {
        "id": "KVBMzwqbquC_"
      },
      "source": [
        "Теперь у нас есть необработанный корпус текстов новостных публикаций в фомате *.txt."
      ]
    },
    {
      "cell_type": "markdown",
      "metadata": {
        "id": "B5x_5Y8VHdIF"
      },
      "source": [
        "## Препроцессинг"
      ]
    },
    {
      "cell_type": "markdown",
      "metadata": {
        "id": "t82vgxGlpjkU"
      },
      "source": [
        "В следующей ячейке производим предварительную обработку тектса: удаление специальных символов и пунктуации, лемматизацию, удаление стоп слов."
      ]
    },
    {
      "cell_type": "code",
      "metadata": {
        "id": "Mwt1VwQkIRmV"
      },
      "source": [
        "#очистка токена от специальных символов\n",
        "def clean_word_symbols(text, symbols=None):\n",
        "  text.replace('\\xa0', ' ')\n",
        "  if symbols:\n",
        "    return text.strip(''.join(symbols))\n",
        "  else:\n",
        "    while text and not text[0].isalpha():\n",
        "      text = text.lstrip(text[0])\n",
        "    while text and not text[-1].isalpha():\n",
        "      text = text.rstrip(text[-1])\n",
        "    return text\n",
        "\n",
        "#очистка текста от символов\n",
        "def clean_symbols(text, symbols=None):\n",
        "  words = [clean_word_symbols(t, symbols=symbols) for t in text.split()]\n",
        "  return ' '.join(words)\n",
        "\n",
        "#лемматизация (можно задать, удалять ли сразу стоп-слова)\n",
        "def lemmatize(text, stopwords=False):\n",
        "  if stopwords:\n",
        "    words = [word for word in word_tokenize(text.lower()) if word.isalpha() and not word in sw]\n",
        "    lems = [morph.parse(word)[0].normal_form for word in words if not word in sw]\n",
        "    return ' '.join([l for l in lems if len(l)>2])\n",
        "  else:\n",
        "    words = [word for word in word_tokenize(text.lower(), language='russian') if word.isalpha()]\n",
        "    lems = [morph.parse(word)[0].normal_form for word in words if not word in sw]\n",
        "    return ' '.join([l for l in lems if len(l)>2])\n",
        "\n",
        "#удаление стоп-слов\n",
        "def clean_sw(text):\n",
        "  return ' '.join([word for word in text.split() if not word in sw])\n",
        "\n",
        "#собираем все выше в одну функцию и возвращаем очищенный текст\n",
        "def transfrom_text(text, symbols=None, stopwords=True):\n",
        "  no_sym = clean_symbols(text, symbols=symbols)\n",
        "  lighter = clean_sw(no_sym)\n",
        "  lem = lemmatize(lighter, stopwords=stopwords)\n",
        "  return lem"
      ],
      "execution_count": null,
      "outputs": []
    },
    {
      "cell_type": "markdown",
      "metadata": {
        "id": "a1GXh_wlqICC"
      },
      "source": [
        "В следующей ячейке -- чтение и обработка корпуса."
      ]
    },
    {
      "cell_type": "code",
      "metadata": {
        "id": "ObNlr6PVI1DH"
      },
      "source": [
        "#чтение корпуса из текстового файла со своевременным разделением информации на категории\n",
        "def read_corpus(filename):\n",
        "  res = []\n",
        "  j=0\n",
        "  record = []\n",
        "  with open(filename) as f:\n",
        "      for l in f:\n",
        "          if l==\"=====\\n\":\n",
        "              j = 0\n",
        "              res.append(record)\n",
        "              record = []\n",
        "          elif j < 4:\n",
        "              j += 1\n",
        "              record.append(l.strip(\"\\n\"))\n",
        "          else:\n",
        "              record[-1] += l.strip(\"\\n\")\n",
        "  res.append(record)\n",
        "  return res\n",
        "\n",
        "#получение датафрейма корпуса\n",
        "def corpus_df(filename):\n",
        "  c = read_corpus(filename)\n",
        "  df = pd.DataFrame.from_records(c[1:], columns=[\"link\", \"date\", \"title\", \"text\"])\n",
        "  return df\n",
        "\n",
        "#конкатенируем название и содержание как полезные текстовые признаки и производим обработку текста\n",
        "def transform_corpus(df, symbols=None, stopwords=True, date=True):\n",
        "  if date:\n",
        "    df_new = pd.DataFrame(columns=['date', 'text'])\n",
        "    df_new['date'] = df['date'].copy()\n",
        "  else:\n",
        "    df_new = pd.DataFrame(columns=['date', 'text'])\n",
        "  if 'title' and 'text' in df.columns:\n",
        "    df_new['title_text'] = df.apply(lambda x: ' '.join([x.title, x.text]) if x.title and x.text else '', axis=1)\n",
        "    df_new['text'] = df_new['title_text'].apply(lambda x: transfrom_text(x, symbols=symbols, stopwords=stopwords))\n",
        "  else:\n",
        "    df_new['text'] = df['text'].apply(lambda x: transfrom_text(x, symbols=symbols, stopwords=stopwords))\n",
        "  return df_new[['text', 'date']]"
      ],
      "execution_count": null,
      "outputs": []
    },
    {
      "cell_type": "markdown",
      "metadata": {
        "id": "ZcMzsNfSqjnm"
      },
      "source": [
        "В следующей ячейке производим чтение, обработку и сохранение в новый файл всего корпуса."
      ]
    },
    {
      "cell_type": "code",
      "metadata": {
        "colab": {
          "base_uri": "https://localhost:8080/"
        },
        "id": "qJ6KqGnWJAyj",
        "outputId": "25f3b30f-9a71-462b-ae39-d47cf4d3a57a"
      },
      "source": [
        "def one_corpus(filename, path, newdir):\n",
        "  full_path = join(path, filename)\n",
        "  try:\n",
        "    df1 = corpus_df(full_path)\n",
        "    df1 = transform_corpus(df1)\n",
        "    new_name = filename[:-4] + '.csv'\n",
        "    new_path = join(path, newdir, new_name)\n",
        "    df1.to_csv(new_path, index=False)\n",
        "    print('success', filename)\n",
        "  except:\n",
        "    print('Error', filename)\n",
        "\n",
        "#mkdir('/content/gdrive/MyDrive/final_project/lem')\n",
        "one_corpus('mktula.txt', '/content/gdrive/MyDrive/final_project/', 'lem')"
      ],
      "execution_count": null,
      "outputs": [
        {
          "output_type": "stream",
          "text": [
            "success mktula.txt\n"
          ],
          "name": "stdout"
        }
      ]
    },
    {
      "cell_type": "markdown",
      "metadata": {
        "id": "qXtCuPxp54AJ"
      },
      "source": [
        "Теперь у нас есть обработанный корпус в файле формата *.csv с колонками, содержащими дату и текст публикации."
      ]
    },
    {
      "cell_type": "markdown",
      "metadata": {
        "id": "_VjxmqdmJabi"
      },
      "source": [
        "## Модели"
      ]
    },
    {
      "cell_type": "markdown",
      "metadata": {
        "id": "XTark1Ib6C25"
      },
      "source": [
        "Загружаем корпус текстов из файла."
      ]
    },
    {
      "cell_type": "code",
      "metadata": {
        "colab": {
          "base_uri": "https://localhost:8080/"
        },
        "id": "nM6r9jmmSqmW",
        "outputId": "67c7ace1-d73d-45c6-971e-8799b946f580"
      },
      "source": [
        "corpus = pd.read_csv('/content/gdrive/MyDrive/final_project/lem/mktula.csv').text\n",
        "corpus"
      ],
      "execution_count": null,
      "outputs": [
        {
          "output_type": "execute_result",
          "data": {
            "text/plain": [
              "0       останки воин красный армия предать земля посёл...\n",
              "1       два точка шаурм щёкино закрытый сутки коронави...\n",
              "2       подросток богородицк ожог доставить вертолёт с...\n",
              "3       туляк продолжать бесплатно раздавать вода жара...\n",
              "4       тула привезти мощь александр невский фото сего...\n",
              "                              ...                        \n",
              "2995    наталия пилюс провести личный приём гражданин ...\n",
              "2996    полезный привычка вегановый начать утро стакан...\n",
              "2997    старый тульский аптека серия дизайнерский брош...\n",
              "2998    снег тульский область идти ночь погода шептать...\n",
              "2999    пациент уйти тульский больница нижний бельё по...\n",
              "Name: text, Length: 3000, dtype: object"
            ]
          },
          "metadata": {
            "tags": []
          },
          "execution_count": 3
        }
      ]
    },
    {
      "cell_type": "markdown",
      "metadata": {
        "id": "yujky2GQ6LUU"
      },
      "source": [
        "Интересная и полезная метрика TF-IDF когерентности, которую предложили в исследовании (https://publications.hse.ru/en/articles/192817051) не представлена ни в одной из библиотек pyhton, поэтому я пишу ее сама. Есл обычная метрика когерентности оценивает лишь факт совместной встречаемости определенного топика в документах коллекции, Tf-IDF когерентность опирается на TF-IDF веса слов в том или ином документе."
      ]
    },
    {
      "cell_type": "code",
      "metadata": {
        "id": "DgZ1otR2JgRj"
      },
      "source": [
        "#Нам понадобится корпус tf-idf векторов текстов\n",
        "def tfidf_corpus(bow):\n",
        "  tfidf = TfidfVectorizer(tokenizer=lambda x: x, lowercase=False)\n",
        "  return tfidf.fit_transform([sum([[t]*q for t, q in bow_doc], []) for bow_doc in bow]).toarray()\n",
        "\n",
        "#рассчитаем метрику для одной темы\n",
        "def topic_tfidf_coherence(topic, dictionary, tfidf_corpus, eps=0.01):\n",
        "  topic_idx = dictionary.doc2idx(topic)\n",
        "  A = tfidf_corpus[:, topic_idx]\n",
        "  A = np.log10((np.dot(A.T,A) + 0.01)/ np.sum(A, axis=0))\n",
        "  return np.sum(A) - np.trace(A)\n",
        "\n",
        "#найдем TF-IDF когерентность модели как среднее TF-IDF когерентностей топиков\n",
        "def model_tfidf_coherence(model, bow, dictionary):\n",
        "  topics = [[term for term, wt in model.show_topic(n, topn=30)] \n",
        "                    for n in range(0, model.num_topics)]\n",
        "  tfidf_c = tfidf_corpus(bow)\n",
        "  coherences = []\n",
        "  for topic in topics:\n",
        "    coherences.append(topic_tfidf_coherence(topic, dictionary, tfidf_c, eps=0.01))\n",
        "  return np.mean(coherences)"
      ],
      "execution_count": null,
      "outputs": []
    },
    {
      "cell_type": "markdown",
      "metadata": {
        "id": "NxPwNAH18JRS"
      },
      "source": [
        "Получаем корпус в виде списка документов, заданных списками слов."
      ]
    },
    {
      "cell_type": "code",
      "metadata": {
        "id": "4Z0CpjX-J59l"
      },
      "source": [
        "pc = [[token for token in str(doc).split() if len(token)>2] for doc in corpus]"
      ],
      "execution_count": null,
      "outputs": []
    },
    {
      "cell_type": "code",
      "metadata": {
        "id": "jsffWvYkHyOK",
        "colab": {
          "base_uri": "https://localhost:8080/"
        },
        "outputId": "7f048103-ba47-4a50-8102-95c9b272c35f"
      },
      "source": [
        "len(sum(pc,[]))"
      ],
      "execution_count": null,
      "outputs": [
        {
          "output_type": "execute_result",
          "data": {
            "text/plain": [
              "316657"
            ]
          },
          "metadata": {
            "tags": []
          },
          "execution_count": 6
        }
      ]
    },
    {
      "cell_type": "markdown",
      "metadata": {
        "id": "Noyzg6_O8TIh"
      },
      "source": [
        "Для того чтобы собрать наиболее efficient словарь, проверим, то с какой частотой какое количество слов встречается в корпусе."
      ]
    },
    {
      "cell_type": "code",
      "metadata": {
        "colab": {
          "base_uri": "https://localhost:8080/",
          "height": 516
        },
        "id": "D_4yjPQCVATL",
        "outputId": "8e5cf2fa-a43d-4dc2-d6c4-09c9e5fb05f4"
      },
      "source": [
        "x = [v for _,v in Counter(sum(pc,[])).items()]\n",
        "print('Слова, встретившиеся 1 раз составляют {} от всего корпуса'.format(np.round(len([el for el in x if el==1])/len(x),2)))\n",
        "print('Слова, встретившиеся менее 3 раз составляют {} от всего корпуса'.format(np.round(len([el for el in x if el<3])/len(x),2)))\n",
        "print('Слова, встретившиеся менее 5 составляют {} от всего корпуса'.format(np.round(len([el for el in x if el<5])/len(x),2)))\n",
        "print('Слова, встретившиеся более, чем в 10% текстов, составляют {} от всего корпуса'.format(np.round(len([el for el in x if el>300])/len(x),4)))\n",
        "print('Слова, встретившиеся более, чем в 20% текстов, составляют {} от всего корпуса'.format(np.round(len([el for el in x if el>600])/len(x),4)))\n",
        "\n",
        "xx = [el for el in x if el>4 and el<=300]\n",
        "plt.figure(figsize=[20,7])\n",
        "plt.hist(xx, bins=750)\n",
        "plt.show()"
      ],
      "execution_count": null,
      "outputs": [
        {
          "output_type": "stream",
          "text": [
            "Слова, встретившиеся 1 раз составляют 0.41 от всего корпуса\n",
            "Слова, встретившиеся менее 3 раз составляют 0.55 от всего корпуса\n",
            "Слова, встретившиеся менее 5 составляют 0.68 от всего корпуса\n",
            "Слова, встретившиеся более, чем в 10% текстов, составляют 0.0051 от всего корпуса\n",
            "Слова, встретившиеся более, чем в 20% текстов, составляют 0.0015 от всего корпуса\n"
          ],
          "name": "stdout"
        },
        {
          "output_type": "display_data",
          "data": {
            "image/png": "[encoded data removed]",
            "text/plain": [
              "<Figure size 1440x504 with 1 Axes>"
            ]
          },
          "metadata": {
            "tags": [],
            "needs_background": "light"
          }
        }
      ]
    },
    {
      "cell_type": "markdown",
      "metadata": {
        "id": "m7Ci3R3oAH_6"
      },
      "source": [
        "Больше всего нам нужны слова, которые встречаются не слишком мало и не слишком много. Если слова слишком частотные -- они не помогут информативно разделить топики, если слишком редко -- они тоже не привнесут никакого вклада и будут восприняты моделью как шум, а их очень много, так что для облегчения модели лучше от них избавиться."
      ]
    },
    {
      "cell_type": "code",
      "metadata": {
        "id": "f493XLrjOEgO"
      },
      "source": [
        "words = [k for k,v in Counter(sum(pc,[])).items() if v>4 and v<=300]\n",
        "pc_new = [[token for token in doc if token in words] for doc in pc]\n",
        "d = Dictionary(pc_new)\n",
        "#d.filter_n_most_frequent(len(set([el for el in x if el<3])))\n",
        "#d.compactify()"
      ],
      "execution_count": null,
      "outputs": []
    },
    {
      "cell_type": "code",
      "metadata": {
        "id": "l8MeM6aj-s2e"
      },
      "source": [
        "pc=pc_new"
      ],
      "execution_count": null,
      "outputs": []
    },
    {
      "cell_type": "markdown",
      "metadata": {
        "id": "ZSty5_MvdATy"
      },
      "source": [
        "### Bag-of-words"
      ]
    },
    {
      "cell_type": "markdown",
      "metadata": {
        "id": "iQbqBESGAit7"
      },
      "source": [
        "Векторизуем корпус с помощью метода bag-of-words. Обучим модели с разным количеством тем, и для каждой сохраним значение трех метрик качества: двух внешних (когерентность и TF-IDF когерентность) и одной внутренней (перплексия)."
      ]
    },
    {
      "cell_type": "code",
      "metadata": {
        "colab": {
          "base_uri": "https://localhost:8080/"
        },
        "id": "UEAHHkfNJ7vJ",
        "outputId": "843df1fe-88cf-4b04-fc8c-a560426acf9b"
      },
      "source": [
        "bow = [d.doc2bow(text) for text in pc]\n",
        "start_n = 10\n",
        "end_n = 101\n",
        "step = 6\n",
        "\n",
        "nums_topics = np.arange(start_n, end_n, step)\n",
        "coherence_scores, tfidf_scores, perplexities = [], [], []\n",
        "\n",
        "for n in nums_topics:\n",
        "  lda = LdaModel(bow, id2word=d, num_topics=n, \n",
        "              random_state=0, chunksize=1740,\n",
        "              alpha='auto', eta='auto', \n",
        "              iterations=500,passes=20, eval_every=None)\n",
        "  coherence_scores.append(CoherenceModel(model=lda, corpus=bow, coherence='u_mass').get_coherence()) \n",
        "  tfidf_scores.append(model_tfidf_coherence(lda, bow, d))\n",
        "  perplexities.append(lda.log_perplexity(bow))"
      ],
      "execution_count": null,
      "outputs": [
        {
          "output_type": "stream",
          "text": [
            "/usr/local/lib/python3.7/dist-packages/gensim/models/ldamodel.py:1023: RuntimeWarning: divide by zero encountered in log\n",
            "  diff = np.log(self.expElogbeta)\n",
            "/usr/local/lib/python3.7/dist-packages/gensim/models/ldamodel.py:1023: RuntimeWarning: divide by zero encountered in log\n",
            "  diff = np.log(self.expElogbeta)\n",
            "/usr/local/lib/python3.7/dist-packages/gensim/models/ldamodel.py:1023: RuntimeWarning: divide by zero encountered in log\n",
            "  diff = np.log(self.expElogbeta)\n",
            "/usr/local/lib/python3.7/dist-packages/gensim/models/ldamodel.py:1023: RuntimeWarning: divide by zero encountered in log\n",
            "  diff = np.log(self.expElogbeta)\n",
            "/usr/local/lib/python3.7/dist-packages/gensim/models/ldamodel.py:1023: RuntimeWarning: divide by zero encountered in log\n",
            "  diff = np.log(self.expElogbeta)\n"
          ],
          "name": "stderr"
        }
      ]
    },
    {
      "cell_type": "code",
      "metadata": {
        "id": "O_g1hE1udFt2"
      },
      "source": [
        "scores = {'bow':{'coh':coherence_scores,\n",
        "                 'tfidf':tfidf_scores,\n",
        "                 'perp':perplexities}}"
      ],
      "execution_count": null,
      "outputs": []
    },
    {
      "cell_type": "markdown",
      "metadata": {
        "id": "3soJWBwMdjDr"
      },
      "source": [
        "### TF-IDF"
      ]
    },
    {
      "cell_type": "markdown",
      "metadata": {
        "id": "20LYH7OLA6kg"
      },
      "source": [
        "Повторим все то же самое, векторизовав тексты методом TF-IDF."
      ]
    },
    {
      "cell_type": "code",
      "metadata": {
        "id": "ufEtrHH2dmU4"
      },
      "source": [
        "tfidf_model = TfidfModel(bow)\n",
        "tfidf = [tfidf_model[doc] for doc in bow]"
      ],
      "execution_count": null,
      "outputs": []
    },
    {
      "cell_type": "code",
      "metadata": {
        "colab": {
          "base_uri": "https://localhost:8080/"
        },
        "id": "DSRePtIufDxn",
        "outputId": "64352fbb-717f-4feb-abfc-0efa5e16724d"
      },
      "source": [
        "start_n = 10\n",
        "end_n = 101\n",
        "step = 6\n",
        "\n",
        "nums_topics = np.arange(start_n, end_n, step)\n",
        "coherence_scores, tfidf_scores, perplexities = [], [], []\n",
        "\n",
        "for n in nums_topics:\n",
        "  lda = LdaModel(tfidf, id2word=d, num_topics=n, \n",
        "              random_state=0, chunksize=1740,\n",
        "              alpha='auto', eta='auto', \n",
        "              iterations=500,passes=20, eval_every=None)\n",
        "  coherence_scores.append(CoherenceModel(model=lda, corpus=tfidf, coherence='u_mass').get_coherence()) \n",
        "  tfidf_scores.append(model_tfidf_coherence(lda, bow, d))\n",
        "  perplexities.append(lda.log_perplexity(tfidf))"
      ],
      "execution_count": null,
      "outputs": [
        {
          "output_type": "stream",
          "text": [
            "/usr/local/lib/python3.7/dist-packages/gensim/models/ldamodel.py:1023: RuntimeWarning: divide by zero encountered in log\n",
            "  diff = np.log(self.expElogbeta)\n",
            "/usr/local/lib/python3.7/dist-packages/gensim/models/ldamodel.py:1023: RuntimeWarning: divide by zero encountered in log\n",
            "  diff = np.log(self.expElogbeta)\n",
            "/usr/local/lib/python3.7/dist-packages/gensim/models/ldamodel.py:1023: RuntimeWarning: divide by zero encountered in log\n",
            "  diff = np.log(self.expElogbeta)\n"
          ],
          "name": "stderr"
        }
      ]
    },
    {
      "cell_type": "code",
      "metadata": {
        "id": "8qDuRtiQfHMk"
      },
      "source": [
        "scores['tfidf']={'coh':coherence_scores,\n",
        "                 'tfidf':tfidf_scores,\n",
        "                 'perp':perplexities}"
      ],
      "execution_count": null,
      "outputs": []
    },
    {
      "cell_type": "markdown",
      "metadata": {
        "id": "KlJLAAWEeCB8"
      },
      "source": [
        "## Визуализация"
      ]
    },
    {
      "cell_type": "code",
      "metadata": {
        "id": "ykp52q_jcEbY"
      },
      "source": [
        "def visualize_metric(my_x, my_y, title='График зависимости', labels=[], xlabel = 'Количество тем', ylabel='Значение метрики'):\n",
        "  plt.figure(figsize=(12,6))\n",
        "\n",
        "  ax = plt.subplot(111)    \n",
        "  ax.spines[\"top\"].set_visible(False)    \n",
        "  ax.spines[\"bottom\"].set_visible(False)    \n",
        "  ax.spines[\"right\"].set_visible(False)    \n",
        "  ax.spines[\"left\"].set_visible(False) \n",
        "\n",
        "  max_score = np.round(max(sum(my_y,[])) + 1, 1)\n",
        "  min_score = np.round(min(sum(my_y,[])) - .05, 1)\n",
        "\n",
        "  plt.ylim(min_score, max_score)    \n",
        "  plt.xlim(0, max(my_x)+1) \n",
        "\n",
        "  plt.yticks(np.arange(min_score, max_score, (max_score-min_score)/10), fontsize=14)    \n",
        "  plt.xticks(my_x, fontsize=14) \n",
        "\n",
        "  for y in np.arange(min_score, max_score, 50):    \n",
        "      plt.plot(np.arange(0, max(my_x)+1), [y] * len(np.arange(0,max(my_x)+1)), \"--\", lw=0.5, color=\"black\", alpha=0.3) \n",
        "      \n",
        "  plt.tick_params(axis='both', which=False, bottom=False, top=False,    \n",
        "                  labelbottom=True, labeltop=False, left=False, right=False, labelleft=True)\n",
        "\n",
        "\n",
        "  for i in range(len(my_y)):\n",
        "    r, g, b = np.random.randint(100, high=200, size=3)    \n",
        "    c = (r / 255., g / 255., b / 255.)\n",
        "    plt.plot(my_x, \n",
        "            my_y[i], \n",
        "            lw=2.5, color=c, label=labels[i])\n",
        "\n",
        "  plt.xlabel(xlabel, fontsize=14, labelpad=8)\n",
        "  plt.ylabel(ylabel, fontsize=14, labelpad=8)\n",
        "  plt.legend()\n",
        "  plt.title(title, fontsize=17, loc=\"center\", pad=20) \n",
        "  plt.show()"
      ],
      "execution_count": null,
      "outputs": []
    },
    {
      "cell_type": "markdown",
      "metadata": {
        "id": "yT5XH5_dG0ed"
      },
      "source": [
        "### Когерентность"
      ]
    },
    {
      "cell_type": "code",
      "metadata": {
        "colab": {
          "base_uri": "https://localhost:8080/",
          "height": 434
        },
        "id": "DeDGKkqJt4dL",
        "outputId": "dfe973b2-7610-4ad0-b561-9ae368a47ed4"
      },
      "source": [
        "visualize_metric(nums_topics, [scores['bow']['coh'], scores['tfidf']['coh']], \n",
        "                 title='График зависимости когерентности от количества тем', \n",
        "                 labels=['bow', 'tfidf'], xlabel = 'Количество тем', ylabel='Значение метрики')"
      ],
      "execution_count": null,
      "outputs": [
        {
          "output_type": "display_data",
          "data": {
            "image/png": "[encoded data removed]",
            "text/plain": [
              "<Figure size 864x432 with 1 Axes>"
            ]
          },
          "metadata": {
            "tags": [],
            "needs_background": "light"
          }
        }
      ]
    },
    {
      "cell_type": "markdown",
      "metadata": {
        "id": "jflXVd0zEKYO"
      },
      "source": [
        "При интерпретации внешних мтерик моделей обучения без учителя принято обращать внимание на такие значения аргумента, при которых функция перестает значимо изменяться -- по-простому, \"локоть\" графика. То есть, зачастую само по себе значение критерия качества не совпадает с мнением эксперта, вручную изучившего результаты работы моделей; а важной оказывается момент, когда наступает стабильность. <br>\n",
        "Несмотря на то что показатели моделей обученных на BoW превышают те же на TF-IDf, для последней мы можем точно выделить оптимальное значение количества тем. Стабильность первой даже интересна, и сама по себе представляет повод для изучения -- это значит, что в целом, для метрики, которая славится тем, как она хорошо и человекоподобно оценивает интерпретируемость тем, не различаются темы, полученные в количесте 10 и 100 штук. Вывод: выигрывает TF-IDF векторизация."
      ]
    },
    {
      "cell_type": "markdown",
      "metadata": {
        "id": "4oTAqumvG3-l"
      },
      "source": [
        "### TF-IDF когерентность"
      ]
    },
    {
      "cell_type": "code",
      "metadata": {
        "colab": {
          "base_uri": "https://localhost:8080/",
          "height": 434
        },
        "id": "tA0Grm0knbN9",
        "outputId": "fc86b273-2277-4d5f-d9e5-8f0c2f04b2eb"
      },
      "source": [
        "visualize_metric(nums_topics, [scores['bow']['tfidf'], scores['tfidf']['tfidf']], \n",
        "                 title='График зависимости TF-IDF когерентности от количества тем', \n",
        "                 labels=['bow', 'tfidf'], xlabel = 'Количество тем', ylabel='Значение метрики')"
      ],
      "execution_count": null,
      "outputs": [
        {
          "output_type": "display_data",
          "data": {
            "image/png": "[encoded data removed]",
            "text/plain": [
              "<Figure size 864x432 with 1 Axes>"
            ]
          },
          "metadata": {
            "tags": [],
            "needs_background": "light"
          }
        }
      ]
    },
    {
      "cell_type": "markdown",
      "metadata": {
        "id": "CRumAyWRGxFu"
      },
      "source": [
        "Вслед за авторами статьи, откуда взята метрика, будем считать, что она прямо пропорциональна интерертируемости тем, а в следствие, модели. Видим, что начиная примерно с 22 значения для TF-IDF и BoW модели fluctuate в общем промежутке, что, кажется, хорошо говорит о метрике -- она позволяет найти подходящие количество тем вне зависимости от способа векторизации.\n",
        "<br>\n",
        "Сравнивая способы векторизации, снова отмечаем стабильность Bow, и легко заметный \"локоть\" TF-IDF. Хоть авторы стать и указывают на то что более высокое значение метрики говорит о лушей модели, it doesn't seem to be the case в случае нашего корпуса: BoW имеет три примерно одинаковых пика (52, 70, 94), причем все находятся во второй половине распределения тем, что многовато для корпуса размером 3000 документов. Для TF-IDF бросающееся в глаза пиковое значение (16 тем), хоть и совпадает с ожиданиями для небольшого корпуса, явно является выбросом. Однако если снова считать \"хорошим\" значение, при котором функция стабилизируется (локоть), удобным будет использование TF-IDF метода векторизации."
      ]
    },
    {
      "cell_type": "markdown",
      "metadata": {
        "id": "w_upYLy-G8d0"
      },
      "source": [
        "### Перплексия"
      ]
    },
    {
      "cell_type": "code",
      "metadata": {
        "colab": {
          "base_uri": "https://localhost:8080/",
          "height": 434
        },
        "id": "qBFGkEfAnk5T",
        "outputId": "6044f25d-0a8f-48a7-c3a3-d51dca937ccf"
      },
      "source": [
        "visualize_metric(nums_topics, [scores['bow']['perp'], scores['tfidf']['perp']], \n",
        "                 title='График зависимости перплексии от количества тем', \n",
        "                 labels=['bow', 'tfidf'], xlabel = 'Количество тем', ylabel='Значение метрики')"
      ],
      "execution_count": null,
      "outputs": [
        {
          "output_type": "display_data",
          "data": {
            "image/png": "[encoded data removed]",
            "text/plain": [
              "<Figure size 864x432 with 1 Axes>"
            ]
          },
          "metadata": {
            "tags": [],
            "needs_background": "light"
          }
        }
      ]
    },
    {
      "cell_type": "markdown",
      "metadata": {
        "id": "7NDlLr55CBnF"
      },
      "source": [
        "Значение перплексии показывает, насколько модель будет \"удивлена\" при получении новых данных, насколько она неустойчива. Чем выше значение перплексии, тем лучше. На графике видим, что перплексиц TF-IDF модели равномерно падет, в то время как BoW - стабильно, за исключением небольшого снижение на уровне 76 тем.<br> Снова напрашивается мысль о том, что, видимо, для второй модели нет различия между темами, если их количество равно 10 и 100, что настораживает.\n",
        "<br>\n",
        "Что касается TF-IDF, можно предположить, что результаты этого способа объясняются тем, что вектора текстов и веса слов в нем сильно зависят друг от друга, поэтому любое изменение всей системы имеет большое влияние на модель в целом."
      ]
    }
  ]
}